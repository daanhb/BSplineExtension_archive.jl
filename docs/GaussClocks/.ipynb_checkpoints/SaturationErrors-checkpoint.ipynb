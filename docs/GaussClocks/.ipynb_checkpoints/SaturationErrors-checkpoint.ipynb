{
 "cells": [
  {
   "cell_type": "code",
   "execution_count": 1,
   "metadata": {},
   "outputs": [
    {
     "data": {
      "text/plain": [
       "\"\""
      ]
     },
     "execution_count": 1,
     "metadata": {},
     "output_type": "execute_result"
    }
   ],
   "source": [
    "# project setup\n",
    "using Pkg;Pkg.activate(localprojectdir())\n",
    "ENV[\"JULIA_DEBUG\"] = \"\""
   ]
  },
  {
   "cell_type": "markdown",
   "metadata": {},
   "source": [
    "# Convergence stagnation"
   ]
  },
  {
   "cell_type": "code",
   "execution_count": null,
   "metadata": {
    "scrolled": true
   },
   "outputs": [
    {
     "name": "stderr",
     "output_type": "stream",
     "text": [
      "┌ Info: Recompiling stale cache file /Users/vincentcp/.julia/compiled/v1.1/BSplineExtension/6Y8mR.ji for BSplineExtension [0b21e58f-1780-5391-9880-11ae5a9ef91b]\n",
      "└ @ Base loading.jl:1184\n"
     ]
    }
   ],
   "source": [
    "using BSplineExtension, Plots, LaTeXStrings, LinearAlgebra"
   ]
  },
  {
   "cell_type": "markdown",
   "metadata": {},
   "source": [
    "Approximate $$f(x)=\\cos(100\\pi x)$$ using two bases: \n",
    "- one consisting of compact B-splines (red) \n",
    "- one with Gaussians similar to B-splines (blue)"
   ]
  },
  {
   "cell_type": "code",
   "execution_count": null,
   "metadata": {},
   "outputs": [],
   "source": [
    "f = x->cos(100pi*x)\n",
    "Ps = (d)->(GaussSplinePlatform(d),BSplinePlatform(d))\n",
    "P1, P2 = Ps(9)\n",
    "N = 5\n",
    "plot(dictionary(P1,N);c=\"red\",layout=2,subplot=1,size=(600,200),legend=false,title=L\"N=5\")\n",
    "plot!(dictionary(P2,N);c=\"blue\",layout=2,subplot=1)\n",
    "N = 10\n",
    "plot!(dictionary(P1,N),c=\"red\",subplot=2,legend=false,title=L\"N=10\")\n",
    "plot!(dictionary(P2,N),c=\"blue\",subplot=2)"
   ]
  },
  {
   "cell_type": "code",
   "execution_count": null,
   "metadata": {},
   "outputs": [],
   "source": []
  },
  {
   "cell_type": "markdown",
   "metadata": {},
   "source": [
    "#### Interpolation ($M=N$)"
   ]
  },
  {
   "cell_type": "markdown",
   "metadata": {},
   "source": [
    "Use B-splines of order 5 (left) and of order 9 (right) to approximate $f$ in $[0,1]$ with varying $N$. Convergence goes algebraically down to machine precision for B-splines and reaches a plateau for Gaussians similar to B-splines."
   ]
  },
  {
   "cell_type": "code",
   "execution_count": null,
   "metadata": {},
   "outputs": [],
   "source": [
    "Ns = 10*[1<<k for k in 1:10]\n",
    "err1 = [abserror(f, Fun(f,P,N)) for N in   Ns, P in Ps(5)]\n",
    "err2 = [abserror(f, Fun(f,P,N)) for N in   Ns, P in Ps(9)]\n",
    "scatter(Ns,err1,yscale=:log10,xscale=:log10;layout=2,subplot=1,ylims=[1e-13,10],legend=false,size=(600,200),xlabel=L\"N\")\n",
    "scatter!(Ns,err2,yscale=:log10,xscale=:log10;layout=2,subplot=2,ylims=[1e-13,10],label=[\"Gauss\",\"B-Spline\"],xlabel=L\"N\")"
   ]
  },
  {
   "cell_type": "code",
   "execution_count": null,
   "metadata": {},
   "outputs": [],
   "source": []
  },
  {
   "cell_type": "markdown",
   "metadata": {},
   "source": [
    "The singular values do not plunge down to $0$."
   ]
  },
  {
   "cell_type": "code",
   "execution_count": null,
   "metadata": {},
   "outputs": [],
   "source": [
    "plot(svdvals(Matrix(evaluation_operator(dictionary(P1,500),sampling_grid(P1,500)))),label=\"Gauss\",size=(300,200))\n",
    "plot!(svdvals(Matrix(evaluation_operator(dictionary(P2,500),sampling_grid(P2,500)))),label=\"B-Spline\")"
   ]
  },
  {
   "cell_type": "markdown",
   "metadata": {},
   "source": [
    "#### Least squares ($M=2N$)"
   ]
  },
  {
   "cell_type": "markdown",
   "metadata": {},
   "source": [
    "Same conclusions as above"
   ]
  },
  {
   "cell_type": "code",
   "execution_count": null,
   "metadata": {},
   "outputs": [],
   "source": [
    "Ns = 10*[1<<k for k in 1:10]\n",
    "err1 = [abserror(f, Fun(f,P,N;samplingstyle=OversamplingStyle(),oversamplingfactor=2)) for N in   Ns, P in Ps(5)]\n",
    "err2 = [abserror(f, Fun(f,P,N;samplingstyle=OversamplingStyle(),oversamplingfactor=2)) for N in   Ns, P in Ps(9)]\n",
    "scatter(Ns,err1,yscale=:log10,xscale=:log10;layout=2,subplot=1,ylims=[1e-13,10],legend=false,size=(600,200))\n",
    "scatter!(Ns,err2,yscale=:log10,xscale=:log10;layout=2,subplot=2,ylims=[1e-13,10],label=[\"Gauss\",\"B-Spline\"])"
   ]
  },
  {
   "cell_type": "code",
   "execution_count": null,
   "metadata": {},
   "outputs": [],
   "source": [
    "plot(svdvals(Matrix(evaluation_operator(dictionary(P1,500),sampling_grid(P1,500;\n",
    "                        samplingstyle=OversamplingStyle(),oversamplingfactor=2)))),label=\"Gauss\",size=(300,200))\n",
    "plot!(svdvals(Matrix(evaluation_operator(dictionary(P2,500),sampling_grid(P2,500;\n",
    "                        samplingstyle=OversamplingStyle(),oversamplingfactor=2)))),label=\"BSpline\")"
   ]
  },
  {
   "cell_type": "code",
   "execution_count": null,
   "metadata": {},
   "outputs": [],
   "source": []
  }
 ],
 "metadata": {
  "kernelspec": {
   "display_name": "Julia 1.1.0",
   "language": "julia",
   "name": "julia-1.1"
  },
  "language_info": {
   "file_extension": ".jl",
   "mimetype": "application/julia",
   "name": "julia",
   "version": "1.1.0"
  }
 },
 "nbformat": 4,
 "nbformat_minor": 2
}
